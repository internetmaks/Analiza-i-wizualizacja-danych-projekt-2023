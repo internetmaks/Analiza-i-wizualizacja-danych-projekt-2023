{
  "nbformat": 4,
  "nbformat_minor": 0,
  "metadata": {
    "colab": {
      "provenance": [],
      "include_colab_link": true
    },
    "kernelspec": {
      "name": "python3",
      "display_name": "Python 3"
    },
    "language_info": {
      "name": "python"
    }
  },
  "cells": [
    {
      "cell_type": "markdown",
      "metadata": {
        "id": "view-in-github",
        "colab_type": "text"
      },
      "source": [
        "<a href=\"https://colab.research.google.com/github/internetmaks/Analiza-i-wizualizacja-danych-projekt-2023/blob/main/AiWD_football.ipynb\" target=\"_parent\"><img src=\"https://colab.research.google.com/assets/colab-badge.svg\" alt=\"Open In Colab\"/></a>"
      ]
    },
    {
      "cell_type": "code",
      "source": [
        "!pip install scikit-posthocs\n"
      ],
      "metadata": {
        "colab": {
          "base_uri": "https://localhost:8080/"
        },
        "id": "9EKqAru-o3p3",
        "outputId": "cb3333f7-2dba-4aa9-ba72-5a0a3810948b"
      },
      "execution_count": null,
      "outputs": [
        {
          "output_type": "stream",
          "name": "stdout",
          "text": [
            "Collecting scikit-posthocs\n",
            "  Downloading scikit_posthocs-0.8.1-py3-none-any.whl (32 kB)\n",
            "Requirement already satisfied: numpy in /usr/local/lib/python3.10/dist-packages (from scikit-posthocs) (1.23.5)\n",
            "Requirement already satisfied: scipy in /usr/local/lib/python3.10/dist-packages (from scikit-posthocs) (1.11.4)\n",
            "Requirement already satisfied: statsmodels in /usr/local/lib/python3.10/dist-packages (from scikit-posthocs) (0.14.1)\n",
            "Requirement already satisfied: pandas>=0.20.0 in /usr/local/lib/python3.10/dist-packages (from scikit-posthocs) (1.5.3)\n",
            "Requirement already satisfied: seaborn in /usr/local/lib/python3.10/dist-packages (from scikit-posthocs) (0.13.1)\n",
            "Requirement already satisfied: matplotlib in /usr/local/lib/python3.10/dist-packages (from scikit-posthocs) (3.7.1)\n",
            "Requirement already satisfied: python-dateutil>=2.8.1 in /usr/local/lib/python3.10/dist-packages (from pandas>=0.20.0->scikit-posthocs) (2.8.2)\n",
            "Requirement already satisfied: pytz>=2020.1 in /usr/local/lib/python3.10/dist-packages (from pandas>=0.20.0->scikit-posthocs) (2023.3.post1)\n",
            "Requirement already satisfied: contourpy>=1.0.1 in /usr/local/lib/python3.10/dist-packages (from matplotlib->scikit-posthocs) (1.2.0)\n",
            "Requirement already satisfied: cycler>=0.10 in /usr/local/lib/python3.10/dist-packages (from matplotlib->scikit-posthocs) (0.12.1)\n",
            "Requirement already satisfied: fonttools>=4.22.0 in /usr/local/lib/python3.10/dist-packages (from matplotlib->scikit-posthocs) (4.47.2)\n",
            "Requirement already satisfied: kiwisolver>=1.0.1 in /usr/local/lib/python3.10/dist-packages (from matplotlib->scikit-posthocs) (1.4.5)\n",
            "Requirement already satisfied: packaging>=20.0 in /usr/local/lib/python3.10/dist-packages (from matplotlib->scikit-posthocs) (23.2)\n",
            "Requirement already satisfied: pillow>=6.2.0 in /usr/local/lib/python3.10/dist-packages (from matplotlib->scikit-posthocs) (9.4.0)\n",
            "Requirement already satisfied: pyparsing>=2.3.1 in /usr/local/lib/python3.10/dist-packages (from matplotlib->scikit-posthocs) (3.1.1)\n",
            "Requirement already satisfied: patsy>=0.5.4 in /usr/local/lib/python3.10/dist-packages (from statsmodels->scikit-posthocs) (0.5.6)\n",
            "Requirement already satisfied: six in /usr/local/lib/python3.10/dist-packages (from patsy>=0.5.4->statsmodels->scikit-posthocs) (1.16.0)\n",
            "Installing collected packages: scikit-posthocs\n",
            "Successfully installed scikit-posthocs-0.8.1\n"
          ]
        }
      ]
    },
    {
      "cell_type": "code",
      "execution_count": null,
      "metadata": {
        "id": "Uc37r61Ds4xR"
      },
      "outputs": [],
      "source": [
        "import pandas as pd\n",
        "import numpy as np\n",
        "from scipy import stats\n",
        "import seaborn as sns\n",
        "import scikit_posthocs as sp\n",
        "import matplotlib.pyplot as plt"
      ]
    },
    {
      "cell_type": "code",
      "source": [
        "apps = pd.read_csv('appearances.csv')\n",
        "club_games = pd.read_csv('club_games.csv')\n",
        "clubs = pd.read_csv('clubs.csv')\n",
        "competitions = pd.read_csv('competitions.csv')\n",
        "game_events = pd.read_csv('game_events.csv')\n",
        "game_lineups = pd.read_csv('game_lineups.csv')\n",
        "games = pd.read_csv(\"games.csv\")\n",
        "player_val = pd.read_csv('player_valuations.csv')\n",
        "players = pd.read_csv('players.csv')\n",
        "club_id = pd.read_csv('clubs.csv')"
      ],
      "metadata": {
        "id": "U-Gu69A-tHy8"
      },
      "execution_count": null,
      "outputs": []
    },
    {
      "cell_type": "markdown",
      "source": [
        "## 1. Z jakiego kraju piłkarze są najbardziej wartościowi?\n",
        "## 2. Jaki jest średni wzrost  zawodnika na danej pozycji w Premier League?\n",
        "## 3. Jaki jest średni wzrost  zawodnika na danej pozycji w Premier League?\n",
        "## 4. Na jakiej pozycji piłkarze mają najwięcej żółtych/czerwonych kartek w Premier League?\n",
        "## 5. Jaki jest średni wiek kapitanów w danej lidze?\n",
        "\n"
      ],
      "metadata": {
        "id": "FgBOZ5BBHoYC"
      }
    },
    {
      "cell_type": "code",
      "source": [
        "games['date'] = pd.to_datetime(games['date'])"
      ],
      "metadata": {
        "id": "dGTkX3NTlSIZ"
      },
      "execution_count": null,
      "outputs": []
    },
    {
      "cell_type": "code",
      "source": [
        "games = games[games['date'] >= '2023-08-14']"
      ],
      "metadata": {
        "id": "Q8Pl7rnslzh-"
      },
      "execution_count": null,
      "outputs": []
    },
    {
      "cell_type": "markdown",
      "source": [
        "##Z jakiego kraju piłkarze są najbardziej wartościowi?\n"
      ],
      "metadata": {
        "id": "bJlaoojGBty0"
      }
    },
    {
      "cell_type": "code",
      "source": [
        "zad1 = pd.merge(players, player_val, on=\"player_id\")"
      ],
      "metadata": {
        "id": "RxKmEsQJykS8"
      },
      "execution_count": null,
      "outputs": []
    },
    {
      "cell_type": "code",
      "source": [
        "max_country_data_median = zad1.groupby(['country_of_citizenship'])['market_value_in_eur_y'].median().idxmax()\n",
        "max_value_median = round(zad1.groupby(['country_of_citizenship'])['market_value_in_eur_y'].median().max(), 2)\n",
        "\n",
        "max_country_data_mean = zad1.groupby(['country_of_citizenship'])['market_value_in_eur_y'].mean().idxmax()\n",
        "max_value_mean = round(zad1.groupby(['country_of_citizenship'])['market_value_in_eur_y'].mean().max(), 2)\n",
        "\n",
        "print(f\"Mediana - kraj: {max_country_data_median}, wartość: {max_value_median}\")\n",
        "print(f\"Średnia - kraj: {max_country_data_mean}, wartość: {max_value_mean}\")"
      ],
      "metadata": {
        "id": "jpihCn3F02w-",
        "colab": {
          "base_uri": "https://localhost:8080/"
        },
        "outputId": "045ac0c0-0de3-4673-ccf9-5d92071ad913"
      },
      "execution_count": null,
      "outputs": [
        {
          "output_type": "stream",
          "name": "stdout",
          "text": [
            "Mediana - kraj: Mexico, wartość: 3200000.0\n",
            "Średnia - kraj: Mexico, wartość: 5541524.28\n"
          ]
        }
      ]
    },
    {
      "cell_type": "code",
      "source": [
        "import pandas as pd\n",
        "import matplotlib.pyplot as plt\n",
        "\n",
        "selected_countries = ['Poland', 'Mexico']\n",
        "\n",
        "filtered_data_selected_countries = zad1[zad1['country_of_citizenship'].isin(selected_countries)]\n",
        "avg_values_by_country_selected = filtered_data_selected_countries.groupby('country_of_citizenship')['market_value_in_eur_y'].mean()\n",
        "\n",
        "avg_values_by_country_selected = avg_values_by_country_selected.sort_values(ascending=False)\n",
        "\n",
        "plt.figure(figsize=(8, 4))\n",
        "avg_values_by_country_selected.plot(kind='bar', color='skyblue')\n",
        "plt.title('Średnia wartość piłkarzy z Polski i Meksyku w latach 2012-2024')\n",
        "plt.xlabel('Kraj')\n",
        "plt.ylabel('Średnia wartość w  EUR') #1e6 oznacza wartosc w milionach\n",
        "plt.show()\n"
      ],
      "metadata": {
        "colab": {
          "base_uri": "https://localhost:8080/",
          "height": 448
        },
        "id": "TDyLc2fiakIb",
        "outputId": "6f45fcfd-5983-4a6e-97ca-6ac1facd65be"
      },
      "execution_count": null,
      "outputs": [
        {
          "output_type": "display_data",
          "data": {
            "text/plain": [
              "<Figure size 800x400 with 1 Axes>"
            ],
            "image/png": "[encoded data removed]"
          },
          "metadata": {}
        }
      ]
    },
    {
      "cell_type": "code",
      "source": [
        "#TEST LEVENEA\n",
        "import pandas as pd\n",
        "import matplotlib.pyplot as plt\n",
        "from scipy.stats import levene\n",
        "\n",
        "selected_countries = ['Poland', 'Mexico']\n",
        "\n",
        "filtered_data_selected_countries = zad1[zad1['country_of_citizenship'].isin(selected_countries)]\n",
        "\n",
        "data_poland = filtered_data_selected_countries[filtered_data_selected_countries['country_of_citizenship'] == 'Poland']['market_value_in_eur_y']\n",
        "data_mexico = filtered_data_selected_countries[filtered_data_selected_countries['country_of_citizenship'] == 'Mexico']['market_value_in_eur_y']\n",
        "\n",
        "statistic, p_value = levene(data_poland, data_mexico)\n",
        "\n",
        "print(f\"Statystyka testowa Levene'a: {statistic}\")\n",
        "print(f\"p-wartość: {p_value}\")"
      ],
      "metadata": {
        "colab": {
          "base_uri": "https://localhost:8080/"
        },
        "id": "gPRRpBIOv8P2",
        "outputId": "c8ab1a26-2f1e-440a-cdf8-cf023ce4bf1e"
      },
      "execution_count": null,
      "outputs": [
        {
          "output_type": "stream",
          "name": "stdout",
          "text": [
            "Statystyka testowa Levene'a: 74.85872199871767\n",
            "p-wartość: 6.5942697009794386e-18\n"
          ]
        }
      ]
    },
    {
      "cell_type": "code",
      "source": [
        "#TEST SAPIRO-WILKA\n",
        "from scipy.stats import shapiro\n",
        "\n",
        "data_poland = zad1[zad1['country_of_citizenship'] == 'Poland']['market_value_in_eur_y'].dropna()\n",
        "data_mexico = zad1[zad1['country_of_citizenship'] == 'Mexico']['market_value_in_eur_y'].dropna()\n",
        "\n",
        "shapiro_statistic_poland, shapiro_p_value_poland = shapiro(data_poland)\n",
        "shapiro_statistic_mexico, shapiro_p_value_mexico = shapiro(data_mexico)\n",
        "\n",
        "print(f\"Test Shapiro-Wilka dla Polski:\")\n",
        "print(f\"Statystyka testu: {shapiro_statistic_poland}\")\n",
        "print(f\"P-value: {shapiro_p_value_poland}\")\n",
        "\n",
        "print(f\"Test Shapiro-Wilka dla Meksyku:\")\n",
        "print(f\"Statystyka testu: {shapiro_statistic_mexico}\")\n",
        "print(f\"P-value: {shapiro_p_value_mexico}\")\n",
        "\n",
        "alpha = 0.05\n",
        "if shapiro_p_value_poland < alpha:\n",
        "    print(\"Dane dla Polski nie pochodzą z rozkładu normalnego - odrzucamy hipotezę zerową.\")\n",
        "else:\n",
        "    print(\"Brak istotnych dowodów na to, że dane dla Polski nie pochodzą z rozkładu normalnego - nie odrzucamy hipotezy zerowej.\")\n",
        "\n",
        "if shapiro_p_value_mexico < alpha:\n",
        "    print(\"Dane dla Meksyku nie pochodzą z rozkładu normalnego - odrzucamy hipotezę zerową.\")\n",
        "else:\n",
        "    print(\"Brak istotnych dowodów na to, że dane dla Meksyku nie pochodzą z rozkładu normalnego - nie odrzucamy hipotezy zerowej.\")"
      ],
      "metadata": {
        "colab": {
          "base_uri": "https://localhost:8080/"
        },
        "id": "6X6jC2fRQWmN",
        "outputId": "11ebac8b-e01b-4c9f-cda7-decc3577ff64"
      },
      "execution_count": null,
      "outputs": [
        {
          "output_type": "stream",
          "name": "stdout",
          "text": [
            "Test Shapiro-Wilka dla Polski:\n",
            "Statystyka testu: 0.33604156970977783\n",
            "P-value: 0.0\n",
            "Test Shapiro-Wilka dla Meksyku:\n",
            "Statystyka testu: 0.6730170249938965\n",
            "P-value: 8.463842724521895e-42\n",
            "Dane dla Polski nie pochodzą z rozkładu normalnego - odrzucamy hipotezę zerową.\n",
            "Dane dla Meksyku nie pochodzą z rozkładu normalnego - odrzucamy hipotezę zerową.\n"
          ]
        }
      ]
    },
    {
      "cell_type": "code",
      "source": [
        "#TEST MANNA-WHITNEYA\n",
        "from scipy.stats import mannwhitneyu\n",
        "\n",
        "data_poland = zad1[zad1['country_of_citizenship'] == 'Poland']['market_value_in_eur_y']\n",
        "data_mexico = zad1[zad1['country_of_citizenship'] == 'Mexico']['market_value_in_eur_y']\n",
        "\n",
        "mannwhitneyu_statistic, mannwhitneyu_p_value = mannwhitneyu(data_poland, data_mexico, alternative='two-sided')\n",
        "\n",
        "print(f\"Statystyka testu U Manna-Whitneya: {mannwhitneyu_statistic}\")\n",
        "print(f\"P-value dla testu U Manna-Whitneya: {mannwhitneyu_p_value}\")\n",
        "\n",
        "alpha_mannwhitneyu = 0.05\n",
        "if mannwhitneyu_p_value < alpha_mannwhitneyu:\n",
        "    print(\"Różnice są istotne statystycznie - odrzucamy hipotezę zerową.\")\n",
        "else:\n",
        "    print(\"Brak istotnych statystycznie różnic - nie odrzucamy hipotezy zerowej.\")"
      ],
      "metadata": {
        "colab": {
          "base_uri": "https://localhost:8080/"
        },
        "id": "iVwItCoQDC7z",
        "outputId": "8a25260c-6aa6-4e9b-8a70-5c93c931d09a"
      },
      "execution_count": null,
      "outputs": [
        {
          "output_type": "stream",
          "name": "stdout",
          "text": [
            "Statystyka testu U Manna-Whitneya: 1101557.0\n",
            "P-value dla testu U Manna-Whitneya: 1.8651447837754005e-166\n",
            "Różnice są istotne statystycznie - odrzucamy hipotezę zerową.\n"
          ]
        }
      ]
    },
    {
      "cell_type": "markdown",
      "source": [
        "## Jaki jest średni wzrost  zawodnika na danej pozycji w Premier League?"
      ],
      "metadata": {
        "id": "JvPJ_Wlg12vD"
      }
    },
    {
      "cell_type": "code",
      "source": [
        "players.rename(columns={'current_club_id': 'club_id'}, inplace=True)"
      ],
      "metadata": {
        "id": "heo8-XSU5vxc"
      },
      "execution_count": null,
      "outputs": []
    },
    {
      "cell_type": "code",
      "source": [
        "premier_league_id = competitions[competitions['competition_code'] == \"premier-league\"]['competition_id'].values[0]\n",
        "premier_league_clubs = clubs[clubs['domestic_competition_id'] == premier_league_id]"
      ],
      "metadata": {
        "id": "FXJtKY1v30-z"
      },
      "execution_count": null,
      "outputs": []
    },
    {
      "cell_type": "code",
      "source": [
        "zad2 = pd.merge(premier_league_clubs, players, on=\"club_id\")"
      ],
      "metadata": {
        "id": "P7hf7ZjT4GW0"
      },
      "execution_count": null,
      "outputs": []
    },
    {
      "cell_type": "code",
      "source": [
        "pozycje = zad2['sub_position'].unique()\n",
        "pozycja_wzrost = {}\n",
        "\n",
        "for i in pozycje:\n",
        "  pozycja_wzrost[i] = round(zad2[zad2[\"sub_position\"] == i]['height_in_cm'].mean(),2)"
      ],
      "metadata": {
        "id": "vwz7jAga7qsc"
      },
      "execution_count": null,
      "outputs": []
    },
    {
      "cell_type": "code",
      "source": [
        "import matplotlib.pyplot as plt\n",
        "import numpy as np\n",
        "\n",
        "pozycje = list(pozycja_wzrost.keys())\n",
        "sredni_wzrost = list(pozycja_wzrost.values())\n",
        "\n",
        "selected_positions = [\"Goalkeeper\", \"Left-Back\"]\n",
        "filtered_pozycje = [pozycja for pozycja in pozycje if pozycja in selected_positions]\n",
        "filtered_sredni_wzrost = [wzrost for pozycja, wzrost in zip(pozycje, sredni_wzrost) if pozycja in selected_positions]\n",
        "\n",
        "plt.figure(figsize=(6, 4))\n",
        "plt.bar(filtered_pozycje, filtered_sredni_wzrost, color=['blue', 'green'])\n",
        "plt.title('Porównanie średniego wzrostu bramkarzy i lewych obrońców w Premier League w latach 2012-2024')\n",
        "plt.xlabel('Pozycja')\n",
        "plt.ylabel('Średni wzrost (cm)')\n",
        "\n",
        "for i in range(len(filtered_pozycje)):\n",
        "    plt.text(i, filtered_sredni_wzrost[i] + 0.5, str(filtered_sredni_wzrost[i]), ha='center', va='bottom')\n",
        "\n",
        "plt.tight_layout()\n",
        "plt.show()"
      ],
      "metadata": {
        "colab": {
          "base_uri": "https://localhost:8080/",
          "height": 407
        },
        "id": "enUq-p_igegh",
        "outputId": "510e62f1-ee2b-466e-b9c9-899eda18064a"
      },
      "execution_count": null,
      "outputs": [
        {
          "output_type": "display_data",
          "data": {
            "text/plain": [
              "<Figure size 600x400 with 1 Axes>"
            ],
            "image/png": "[encoded data removed]"
          },
          "metadata": {}
        }
      ]
    },
    {
      "cell_type": "code",
      "source": [
        "#TEST LEVENEA\n",
        "from scipy.stats import levene\n",
        "\n",
        "data_goalkeeper = zad2[zad2['sub_position'] == 'Goalkeeper']['height_in_cm']\n",
        "data_left_back = zad2[zad2['sub_position'] == 'Left-Back']['height_in_cm']\n",
        "\n",
        "data_goalkeeper = data_goalkeeper.dropna()\n",
        "data_left_back = data_left_back.dropna()\n",
        "\n",
        "levene_statistic, levene_p_value = levene(data_goalkeeper, data_left_back)\n",
        "\n",
        "print(f\"Statystyka testu Levene'a: {levene_statistic}\")\n",
        "print(f\"P-value: {levene_p_value}\")\n",
        "\n",
        "alpha_levene = 0.05\n",
        "if levene_p_value < alpha_levene:\n",
        "    print(\"Równość wariancji jest naruszona - odrzucamy hipotezę zerową.\")\n",
        "else:\n",
        "    print(\"Brak istotnych statystycznie dowodów na to, że wariancje są różne między grupami.\")"
      ],
      "metadata": {
        "id": "v2xWZNlmLjTF",
        "colab": {
          "base_uri": "https://localhost:8080/"
        },
        "outputId": "4a270242-cc22-4853-bbbc-a800a73dff56"
      },
      "execution_count": null,
      "outputs": [
        {
          "output_type": "stream",
          "name": "stdout",
          "text": [
            "Statystyka testu Levene'a: 2.004456005125278\n",
            "P-value: 0.15769496763151897\n",
            "Brak istotnych statystycznie dowodów na to, że wariancje są różne między grupami.\n"
          ]
        }
      ]
    },
    {
      "cell_type": "code",
      "source": [
        "#TEST SHAPIRO-WILKA\n",
        "from scipy.stats import shapiro\n",
        "\n",
        "data_goalkeeper = zad2[zad2['sub_position'] == 'Goalkeeper']['height_in_cm']\n",
        "data_left_back = zad2[zad2['sub_position'] == 'Left-Back']['height_in_cm']\n",
        "\n",
        "data_goalkeeper = data_goalkeeper.dropna()\n",
        "data_left_back = data_left_back.dropna()\n",
        "\n",
        "shapiro_statistic_goalkeeper, shapiro_p_value_goalkeeper = shapiro(data_goalkeeper)\n",
        "shapiro_statistic_left_back, shapiro_p_value_left_back = shapiro(data_left_back)\n",
        "\n",
        "print(f\"Test Shapiro-Wilka dla wzrostu bramkarzy:\")\n",
        "print(f\"Statystyka testu: {shapiro_statistic_goalkeeper}\")\n",
        "print(f\"P-value: {shapiro_p_value_goalkeeper}\")\n",
        "\n",
        "print(\"\\nTest Shapiro-Wilka dla wzrostu lewych obrońców:\")\n",
        "print(f\"Statystyka testu: {shapiro_statistic_left_back}\")\n",
        "print(f\"P-value: {shapiro_p_value_left_back}\")\n",
        "\n",
        "alpha_shapiro = 0.05\n",
        "if shapiro_p_value_goalkeeper < alpha_shapiro:\n",
        "    print(\"\\nWzrost bramkarzy nie pochodzi z rozkładu normalnego.\")\n",
        "else:\n",
        "    print(\"\\nBrak istotnych statystycznie dowodów na to, że wzrost bramkarzy pochodzi z innego rozkładu niż normalny.\")\n",
        "\n",
        "if shapiro_p_value_left_back < alpha_shapiro:\n",
        "    print(\"Wzrost lewych obrońców nie pochodzi z rozkładu normalnego.\")\n",
        "else:\n",
        "    print(\"Brak istotnych statystycznie dowodów na to, że wzrost lewych obrońców pochodzi z innego rozkładu niż normalny.\")\n"
      ],
      "metadata": {
        "colab": {
          "base_uri": "https://localhost:8080/"
        },
        "id": "6y6dMYNJGK_P",
        "outputId": "e179a090-1268-44be-d0c0-d8f073a93d23"
      },
      "execution_count": null,
      "outputs": [
        {
          "output_type": "stream",
          "name": "stdout",
          "text": [
            "Test Shapiro-Wilka dla wzrostu bramkarzy:\n",
            "Statystyka testu: 0.9868196249008179\n",
            "P-value: 0.03285942226648331\n",
            "\n",
            "Test Shapiro-Wilka dla wzrostu lewych obrońców:\n",
            "Statystyka testu: 0.9706575870513916\n",
            "P-value: 0.0049308598972857\n",
            "\n",
            "Wzrost bramkarzy nie pochodzi z rozkładu normalnego.\n",
            "Wzrost lewych obrońców nie pochodzi z rozkładu normalnego.\n"
          ]
        }
      ]
    },
    {
      "cell_type": "code",
      "source": [
        "#TEST MANNA-WHITNEYA\n",
        "from scipy.stats import mannwhitneyu\n",
        "\n",
        "data_goalkeeper = zad2[zad2['sub_position'] == 'Goalkeeper']['height_in_cm'].dropna()\n",
        "data_left_back = zad2[zad2['sub_position'] == 'Left-Back']['height_in_cm'].dropna()\n",
        "\n",
        "mannwhitney_statistic, mannwhitney_p_value = mannwhitneyu(data_goalkeeper, data_left_back, alternative='two-sided')\n",
        "\n",
        "print(f\"U-statystyka Manna-Whitneya: {mannwhitney_statistic}\")\n",
        "print(f\"Wartość p: {mannwhitney_p_value}\")\n",
        "\n",
        "alpha = 0.05\n",
        "if mannwhitney_p_value < alpha:\n",
        "    print(\"Różnice są istotne statystycznie - odrzucamy hipotezę zerową.\")\n",
        "else:\n",
        "    print(\"Brak istotnych statystycznie różnic - nie odrzucamy hipotezy zerowej.\")"
      ],
      "metadata": {
        "colab": {
          "base_uri": "https://localhost:8080/"
        },
        "id": "BlRxYH9BGR47",
        "outputId": "4048ecd8-7a1a-40bc-a9a2-f3ec9aa61430"
      },
      "execution_count": null,
      "outputs": [
        {
          "output_type": "stream",
          "name": "stdout",
          "text": [
            "U-statystyka Manna-Whitneya: 30167.5\n",
            "Wartość p: 7.570663860547878e-51\n",
            "Różnice są istotne statystycznie - odrzucamy hipotezę zerową.\n"
          ]
        }
      ]
    },
    {
      "cell_type": "markdown",
      "source": [
        "## Czy drużyny, grając na własnym boisku, strzelają więcej bramek?"
      ],
      "metadata": {
        "id": "YMNQmibX9OSq"
      }
    },
    {
      "cell_type": "code",
      "source": [
        "serie_a_id = competitions[competitions['competition_code'] == \"serie-a\"]['competition_id'].values[0]"
      ],
      "metadata": {
        "id": "osGaPjOJ9omk"
      },
      "execution_count": null,
      "outputs": []
    },
    {
      "cell_type": "code",
      "source": [
        "games_serie_a = games[games['competition_id'] == serie_a_id]"
      ],
      "metadata": {
        "id": "rBuhInuJ9RWE"
      },
      "execution_count": null,
      "outputs": []
    },
    {
      "cell_type": "code",
      "source": [
        "#bramki zdobyte u siebie\n",
        "home_games_goles_serie_a = games_serie_a.groupby('home_club_name')['home_club_goals'].sum()\n",
        "home_games_goles_serie_a"
      ],
      "metadata": {
        "colab": {
          "base_uri": "https://localhost:8080/"
        },
        "id": "58gw0VKP96vi",
        "outputId": "124d2316-8ebf-4c88-fe34-7c4f5c7d3f60"
      },
      "execution_count": null,
      "outputs": [
        {
          "output_type": "execute_result",
          "data": {
            "text/plain": [
              "home_club_name\n",
              "Associazione Calcio Fiorentina                17\n",
              "Associazione Calcio Milan                     20\n",
              "Associazione Calcio Monza                     12\n",
              "Associazione Sportiva Roma                    24\n",
              "Atalanta Bergamasca Calcio S.p.a.             24\n",
              "Bologna Football Club 1909                    14\n",
              "Cagliari Calcio                               14\n",
              "Empoli Football Club S.r.l.                    8\n",
              "Football Club Internazionale Milano S.p.A.    25\n",
              "Frosinone Calcio S.r.l.                       20\n",
              "Genoa Cricket and Football Club               14\n",
              "Juventus Football Club                        17\n",
              "Società Sportiva Calcio Napoli                14\n",
              "Società Sportiva Lazio S.p.A.                 12\n",
              "Torino Calcio                                 12\n",
              "U.S. Salernitana 1919 S.r.l.                  12\n",
              "Udinese Calcio                                15\n",
              "Unione Sportiva Lecce                         12\n",
              "Unione Sportiva Sassuolo Calcio               13\n",
              "Verona Hellas Football Club                   12\n",
              "Name: home_club_goals, dtype: int64"
            ]
          },
          "metadata": {},
          "execution_count": 182
        }
      ]
    },
    {
      "cell_type": "code",
      "source": [
        "#zdobyte bramki na wyjeździe\n",
        "away_games_goles_serie_a = games_serie_a.groupby('away_club_name')['away_club_goals'].sum()\n",
        "away_games_goles_serie_a"
      ],
      "metadata": {
        "colab": {
          "base_uri": "https://localhost:8080/"
        },
        "id": "tZOShaaQ9Zvr",
        "outputId": "96155deb-c41f-409a-efaa-6ce572cd467a"
      },
      "execution_count": null,
      "outputs": [
        {
          "output_type": "execute_result",
          "data": {
            "text/plain": [
              "away_club_name\n",
              "Associazione Calcio Fiorentina                12\n",
              "Associazione Calcio Milan                     23\n",
              "Associazione Calcio Monza                      9\n",
              "Associazione Sportiva Roma                    12\n",
              "Atalanta Bergamasca Calcio S.p.a.             13\n",
              "Bologna Football Club 1909                    11\n",
              "Cagliari Calcio                                7\n",
              "Empoli Football Club S.r.l.                    7\n",
              "Football Club Internazionale Milano S.p.A.    25\n",
              "Frosinone Calcio S.r.l.                        9\n",
              "Genoa Cricket and Football Club               10\n",
              "Juventus Football Club                        19\n",
              "Società Sportiva Calcio Napoli                16\n",
              "Società Sportiva Lazio S.p.A.                 12\n",
              "Torino Calcio                                  8\n",
              "U.S. Salernitana 1919 S.r.l.                   7\n",
              "Udinese Calcio                                 8\n",
              "Unione Sportiva Lecce                          9\n",
              "Unione Sportiva Sassuolo Calcio               13\n",
              "Verona Hellas Football Club                    8\n",
              "Name: away_club_goals, dtype: int64"
            ]
          },
          "metadata": {},
          "execution_count": 183
        }
      ]
    },
    {
      "cell_type": "code",
      "source": [
        "#roznica bramek (home-away)\n",
        "roznica_goli = home_games_goles_serie_a - away_games_goles_serie_a\n",
        "roznica_goli_df = pd.DataFrame({'difference': roznica_goli})\n",
        "roznica_goli_df.reset_index(inplace=True)\n",
        "roznica_goli_df"
      ],
      "metadata": {
        "colab": {
          "base_uri": "https://localhost:8080/",
          "height": 677
        },
        "id": "LwE1yBsz-RTE",
        "outputId": "0f2dcafd-c79d-40c1-e06a-2d26d0351093"
      },
      "execution_count": null,
      "outputs": [
        {
          "output_type": "execute_result",
          "data": {
            "text/plain": [
              "                                home_club_name  difference\n",
              "0               Associazione Calcio Fiorentina           5\n",
              "1                    Associazione Calcio Milan          -3\n",
              "2                    Associazione Calcio Monza           3\n",
              "3                   Associazione Sportiva Roma          12\n",
              "4            Atalanta Bergamasca Calcio S.p.a.          11\n",
              "5                   Bologna Football Club 1909           3\n",
              "6                              Cagliari Calcio           7\n",
              "7                  Empoli Football Club S.r.l.           1\n",
              "8   Football Club Internazionale Milano S.p.A.           0\n",
              "9                      Frosinone Calcio S.r.l.          11\n",
              "10             Genoa Cricket and Football Club           4\n",
              "11                      Juventus Football Club          -2\n",
              "12              Società Sportiva Calcio Napoli          -2\n",
              "13               Società Sportiva Lazio S.p.A.           0\n",
              "14                               Torino Calcio           4\n",
              "15                U.S. Salernitana 1919 S.r.l.           5\n",
              "16                              Udinese Calcio           7\n",
              "17                       Unione Sportiva Lecce           3\n",
              "18             Unione Sportiva Sassuolo Calcio           0\n",
              "19                 Verona Hellas Football Club           4"
            ],
            "text/html": [
              "\n",
              "  <div id=\"df-b6b1f3e7-7faf-4ed2-92ab-c10aa8ae23f2\" class=\"colab-df-container\">\n",
              "    <div>\n",
              "<style scoped>\n",
              "    .dataframe tbody tr th:only-of-type {\n",
              "        vertical-align: middle;\n",
              "    }\n",
              "\n",
              "    .dataframe tbody tr th {\n",
              "        vertical-align: top;\n",
              "    }\n",
              "\n",
              "    .dataframe thead th {\n",
              "        text-align: right;\n",
              "    }\n",
              "</style>\n",
              "<table border=\"1\" class=\"dataframe\">\n",
              "  <thead>\n",
              "    <tr style=\"text-align: right;\">\n",
              "      <th></th>\n",
              "      <th>home_club_name</th>\n",
              "      <th>difference</th>\n",
              "    </tr>\n",
              "  </thead>\n",
              "  <tbody>\n",
              "    <tr>\n",
              "      <th>0</th>\n",
              "      <td>Associazione Calcio Fiorentina</td>\n",
              "      <td>5</td>\n",
              "    </tr>\n",
              "    <tr>\n",
              "      <th>1</th>\n",
              "      <td>Associazione Calcio Milan</td>\n",
              "      <td>-3</td>\n",
              "    </tr>\n",
              "    <tr>\n",
              "      <th>2</th>\n",
              "      <td>Associazione Calcio Monza</td>\n",
              "      <td>3</td>\n",
              "    </tr>\n",
              "    <tr>\n",
              "      <th>3</th>\n",
              "      <td>Associazione Sportiva Roma</td>\n",
              "      <td>12</td>\n",
              "    </tr>\n",
              "    <tr>\n",
              "      <th>4</th>\n",
              "      <td>Atalanta Bergamasca Calcio S.p.a.</td>\n",
              "      <td>11</td>\n",
              "    </tr>\n",
              "    <tr>\n",
              "      <th>5</th>\n",
              "      <td>Bologna Football Club 1909</td>\n",
              "      <td>3</td>\n",
              "    </tr>\n",
              "    <tr>\n",
              "      <th>6</th>\n",
              "      <td>Cagliari Calcio</td>\n",
              "      <td>7</td>\n",
              "    </tr>\n",
              "    <tr>\n",
              "      <th>7</th>\n",
              "      <td>Empoli Football Club S.r.l.</td>\n",
              "      <td>1</td>\n",
              "    </tr>\n",
              "    <tr>\n",
              "      <th>8</th>\n",
              "      <td>Football Club Internazionale Milano S.p.A.</td>\n",
              "      <td>0</td>\n",
              "    </tr>\n",
              "    <tr>\n",
              "      <th>9</th>\n",
              "      <td>Frosinone Calcio S.r.l.</td>\n",
              "      <td>11</td>\n",
              "    </tr>\n",
              "    <tr>\n",
              "      <th>10</th>\n",
              "      <td>Genoa Cricket and Football Club</td>\n",
              "      <td>4</td>\n",
              "    </tr>\n",
              "    <tr>\n",
              "      <th>11</th>\n",
              "      <td>Juventus Football Club</td>\n",
              "      <td>-2</td>\n",
              "    </tr>\n",
              "    <tr>\n",
              "      <th>12</th>\n",
              "      <td>Società Sportiva Calcio Napoli</td>\n",
              "      <td>-2</td>\n",
              "    </tr>\n",
              "    <tr>\n",
              "      <th>13</th>\n",
              "      <td>Società Sportiva Lazio S.p.A.</td>\n",
              "      <td>0</td>\n",
              "    </tr>\n",
              "    <tr>\n",
              "      <th>14</th>\n",
              "      <td>Torino Calcio</td>\n",
              "      <td>4</td>\n",
              "    </tr>\n",
              "    <tr>\n",
              "      <th>15</th>\n",
              "      <td>U.S. Salernitana 1919 S.r.l.</td>\n",
              "      <td>5</td>\n",
              "    </tr>\n",
              "    <tr>\n",
              "      <th>16</th>\n",
              "      <td>Udinese Calcio</td>\n",
              "      <td>7</td>\n",
              "    </tr>\n",
              "    <tr>\n",
              "      <th>17</th>\n",
              "      <td>Unione Sportiva Lecce</td>\n",
              "      <td>3</td>\n",
              "    </tr>\n",
              "    <tr>\n",
              "      <th>18</th>\n",
              "      <td>Unione Sportiva Sassuolo Calcio</td>\n",
              "      <td>0</td>\n",
              "    </tr>\n",
              "    <tr>\n",
              "      <th>19</th>\n",
              "      <td>Verona Hellas Football Club</td>\n",
              "      <td>4</td>\n",
              "    </tr>\n",
              "  </tbody>\n",
              "</table>\n",
              "</div>\n",
              "    <div class=\"colab-df-buttons\">\n",
              "\n",
              "  <div class=\"colab-df-container\">\n",
              "    <button class=\"colab-df-convert\" onclick=\"convertToInteractive('df-b6b1f3e7-7faf-4ed2-92ab-c10aa8ae23f2')\"\n",
              "            title=\"Convert this dataframe to an interactive table.\"\n",
              "            style=\"display:none;\">\n",
              "\n",
              "  <svg xmlns=\"http://www.w3.org/2000/svg\" height=\"24px\" viewBox=\"0 -960 960 960\">\n",
              "    <path d=\"M120-120v-720h720v720H120Zm60-500h600v-160H180v160Zm220 220h160v-160H400v160Zm0 220h160v-160H400v160ZM180-400h160v-160H180v160Zm440 0h160v-160H620v160ZM180-180h160v-160H180v160Zm440 0h160v-160H620v160Z\"/>\n",
              "  </svg>\n",
              "    </button>\n",
              "\n",
              "  <style>\n",
              "    .colab-df-container {\n",
              "      display:flex;\n",
              "      gap: 12px;\n",
              "    }\n",
              "\n",
              "    .colab-df-convert {\n",
              "      background-color: #E8F0FE;\n",
              "      border: none;\n",
              "      border-radius: 50%;\n",
              "      cursor: pointer;\n",
              "      display: none;\n",
              "      fill: #1967D2;\n",
              "      height: 32px;\n",
              "      padding: 0 0 0 0;\n",
              "      width: 32px;\n",
              "    }\n",
              "\n",
              "    .colab-df-convert:hover {\n",
              "      background-color: #E2EBFA;\n",
              "      box-shadow: 0px 1px 2px rgba(60, 64, 67, 0.3), 0px 1px 3px 1px rgba(60, 64, 67, 0.15);\n",
              "      fill: #174EA6;\n",
              "    }\n",
              "\n",
              "    .colab-df-buttons div {\n",
              "      margin-bottom: 4px;\n",
              "    }\n",
              "\n",
              "    [theme=dark] .colab-df-convert {\n",
              "      background-color: #3B4455;\n",
              "      fill: #D2E3FC;\n",
              "    }\n",
              "\n",
              "    [theme=dark] .colab-df-convert:hover {\n",
              "      background-color: #434B5C;\n",
              "      box-shadow: 0px 1px 3px 1px rgba(0, 0, 0, 0.15);\n",
              "      filter: drop-shadow(0px 1px 2px rgba(0, 0, 0, 0.3));\n",
              "      fill: #FFFFFF;\n",
              "    }\n",
              "  </style>\n",
              "\n",
              "    <script>\n",
              "      const buttonEl =\n",
              "        document.querySelector('#df-b6b1f3e7-7faf-4ed2-92ab-c10aa8ae23f2 button.colab-df-convert');\n",
              "      buttonEl.style.display =\n",
              "        google.colab.kernel.accessAllowed ? 'block' : 'none';\n",
              "\n",
              "      async function convertToInteractive(key) {\n",
              "        const element = document.querySelector('#df-b6b1f3e7-7faf-4ed2-92ab-c10aa8ae23f2');\n",
              "        const dataTable =\n",
              "          await google.colab.kernel.invokeFunction('convertToInteractive',\n",
              "                                                    [key], {});\n",
              "        if (!dataTable) return;\n",
              "\n",
              "        const docLinkHtml = 'Like what you see? Visit the ' +\n",
              "          '<a target=\"_blank\" href=https://colab.research.google.com/notebooks/data_table.ipynb>data table notebook</a>'\n",
              "          + ' to learn more about interactive tables.';\n",
              "        element.innerHTML = '';\n",
              "        dataTable['output_type'] = 'display_data';\n",
              "        await google.colab.output.renderOutput(dataTable, element);\n",
              "        const docLink = document.createElement('div');\n",
              "        docLink.innerHTML = docLinkHtml;\n",
              "        element.appendChild(docLink);\n",
              "      }\n",
              "    </script>\n",
              "  </div>\n",
              "\n",
              "\n",
              "<div id=\"df-a70a2a7b-0f63-43bd-8913-0ba46544cf21\">\n",
              "  <button class=\"colab-df-quickchart\" onclick=\"quickchart('df-a70a2a7b-0f63-43bd-8913-0ba46544cf21')\"\n",
              "            title=\"Suggest charts\"\n",
              "            style=\"display:none;\">\n",
              "\n",
              "<svg xmlns=\"http://www.w3.org/2000/svg\" height=\"24px\"viewBox=\"0 0 24 24\"\n",
              "     width=\"24px\">\n",
              "    <g>\n",
              "        <path d=\"M19 3H5c-1.1 0-2 .9-2 2v14c0 1.1.9 2 2 2h14c1.1 0 2-.9 2-2V5c0-1.1-.9-2-2-2zM9 17H7v-7h2v7zm4 0h-2V7h2v10zm4 0h-2v-4h2v4z\"/>\n",
              "    </g>\n",
              "</svg>\n",
              "  </button>\n",
              "\n",
              "<style>\n",
              "  .colab-df-quickchart {\n",
              "      --bg-color: #E8F0FE;\n",
              "      --fill-color: #1967D2;\n",
              "      --hover-bg-color: #E2EBFA;\n",
              "      --hover-fill-color: #174EA6;\n",
              "      --disabled-fill-color: #AAA;\n",
              "      --disabled-bg-color: #DDD;\n",
              "  }\n",
              "\n",
              "  [theme=dark] .colab-df-quickchart {\n",
              "      --bg-color: #3B4455;\n",
              "      --fill-color: #D2E3FC;\n",
              "      --hover-bg-color: #434B5C;\n",
              "      --hover-fill-color: #FFFFFF;\n",
              "      --disabled-bg-color: #3B4455;\n",
              "      --disabled-fill-color: #666;\n",
              "  }\n",
              "\n",
              "  .colab-df-quickchart {\n",
              "    background-color: var(--bg-color);\n",
              "    border: none;\n",
              "    border-radius: 50%;\n",
              "    cursor: pointer;\n",
              "    display: none;\n",
              "    fill: var(--fill-color);\n",
              "    height: 32px;\n",
              "    padding: 0;\n",
              "    width: 32px;\n",
              "  }\n",
              "\n",
              "  .colab-df-quickchart:hover {\n",
              "    background-color: var(--hover-bg-color);\n",
              "    box-shadow: 0 1px 2px rgba(60, 64, 67, 0.3), 0 1px 3px 1px rgba(60, 64, 67, 0.15);\n",
              "    fill: var(--button-hover-fill-color);\n",
              "  }\n",
              "\n",
              "  .colab-df-quickchart-complete:disabled,\n",
              "  .colab-df-quickchart-complete:disabled:hover {\n",
              "    background-color: var(--disabled-bg-color);\n",
              "    fill: var(--disabled-fill-color);\n",
              "    box-shadow: none;\n",
              "  }\n",
              "\n",
              "  .colab-df-spinner {\n",
              "    border: 2px solid var(--fill-color);\n",
              "    border-color: transparent;\n",
              "    border-bottom-color: var(--fill-color);\n",
              "    animation:\n",
              "      spin 1s steps(1) infinite;\n",
              "  }\n",
              "\n",
              "  @keyframes spin {\n",
              "    0% {\n",
              "      border-color: transparent;\n",
              "      border-bottom-color: var(--fill-color);\n",
              "      border-left-color: var(--fill-color);\n",
              "    }\n",
              "    20% {\n",
              "      border-color: transparent;\n",
              "      border-left-color: var(--fill-color);\n",
              "      border-top-color: var(--fill-color);\n",
              "    }\n",
              "    30% {\n",
              "      border-color: transparent;\n",
              "      border-left-color: var(--fill-color);\n",
              "      border-top-color: var(--fill-color);\n",
              "      border-right-color: var(--fill-color);\n",
              "    }\n",
              "    40% {\n",
              "      border-color: transparent;\n",
              "      border-right-color: var(--fill-color);\n",
              "      border-top-color: var(--fill-color);\n",
              "    }\n",
              "    60% {\n",
              "      border-color: transparent;\n",
              "      border-right-color: var(--fill-color);\n",
              "    }\n",
              "    80% {\n",
              "      border-color: transparent;\n",
              "      border-right-color: var(--fill-color);\n",
              "      border-bottom-color: var(--fill-color);\n",
              "    }\n",
              "    90% {\n",
              "      border-color: transparent;\n",
              "      border-bottom-color: var(--fill-color);\n",
              "    }\n",
              "  }\n",
              "</style>\n",
              "\n",
              "  <script>\n",
              "    async function quickchart(key) {\n",
              "      const quickchartButtonEl =\n",
              "        document.querySelector('#' + key + ' button');\n",
              "      quickchartButtonEl.disabled = true;  // To prevent multiple clicks.\n",
              "      quickchartButtonEl.classList.add('colab-df-spinner');\n",
              "      try {\n",
              "        const charts = await google.colab.kernel.invokeFunction(\n",
              "            'suggestCharts', [key], {});\n",
              "      } catch (error) {\n",
              "        console.error('Error during call to suggestCharts:', error);\n",
              "      }\n",
              "      quickchartButtonEl.classList.remove('colab-df-spinner');\n",
              "      quickchartButtonEl.classList.add('colab-df-quickchart-complete');\n",
              "    }\n",
              "    (() => {\n",
              "      let quickchartButtonEl =\n",
              "        document.querySelector('#df-a70a2a7b-0f63-43bd-8913-0ba46544cf21 button');\n",
              "      quickchartButtonEl.style.display =\n",
              "        google.colab.kernel.accessAllowed ? 'block' : 'none';\n",
              "    })();\n",
              "  </script>\n",
              "</div>\n",
              "    </div>\n",
              "  </div>\n"
            ]
          },
          "metadata": {},
          "execution_count": 184
        }
      ]
    },
    {
      "cell_type": "code",
      "source": [
        "import matplotlib.pyplot as plt\n",
        "\n",
        "total_home_goals = home_games_goles_serie_a.sum()\n",
        "total_away_goals = away_games_goles_serie_a.sum()\n",
        "\n",
        "categories = ['Gole u siebie', 'Gole na wyjeździe']\n",
        "values = [total_home_goals, total_away_goals]\n",
        "\n",
        "plt.figure(figsize=(8, 6))\n",
        "plt.bar(categories, values, color=['skyblue', 'lightcoral'])\n",
        "plt.ylabel('Liczba zdobytych goli')\n",
        "plt.title('Porównanie liczby zdobytych goli u siebie i na wyjeździe - Serie A 2023/2024')\n",
        "\n",
        "for index, value in enumerate(values):\n",
        "    plt.text(index, value, str(value), ha='center', va='bottom', fontsize=9)\n",
        "\n",
        "plt.show()"
      ],
      "metadata": {
        "colab": {
          "base_uri": "https://localhost:8080/",
          "height": 546
        },
        "id": "wTiaJ_TBkPuR",
        "outputId": "fc8a1eda-b5fb-4adb-b331-134cd01fc59f"
      },
      "execution_count": null,
      "outputs": [
        {
          "output_type": "display_data",
          "data": {
            "text/plain": [
              "<Figure size 800x600 with 1 Axes>"
            ],
            "image/png": "[encoded data removed]"
          },
          "metadata": {}
        }
      ]
    },
    {
      "cell_type": "code",
      "source": [
        "import matplotlib.pyplot as plt\n",
        "\n",
        "data_home_goals = home_games_goles_serie_a.values\n",
        "data_away_goals = away_games_goles_serie_a.values\n",
        "\n",
        "plt.figure(figsize=(8, 6))\n",
        "plt.boxplot([data_home_goals, data_away_goals], labels=['Gole u siebie', 'Gole na wyjeździe'], vert=True, patch_artist=True, notch=True,boxprops = dict(facecolor='skyblue', color='lightcoral'))\n",
        "plt.ylabel('Liczba zdobytych goli')\n",
        "plt.title('Porównanie liczby zdobytych goli u siebie i na wyjeździe - Serie A 2023/2024')\n",
        "\n",
        "plt.show()"
      ],
      "metadata": {
        "colab": {
          "base_uri": "https://localhost:8080/",
          "height": 546
        },
        "id": "yXfd3UgxIPCo",
        "outputId": "03f0eeac-b9a4-40dd-842b-8e6e862186bd"
      },
      "execution_count": null,
      "outputs": [
        {
          "output_type": "display_data",
          "data": {
            "text/plain": [
              "<Figure size 800x600 with 1 Axes>"
            ],
            "image/png": "[encoded data removed]"
          },
          "metadata": {}
        }
      ]
    },
    {
      "cell_type": "code",
      "source": [
        "#TEST SAPIRO-WILKA\n",
        "from scipy.stats import shapiro\n",
        "\n",
        "statistic_home, p_value_home = shapiro(home_games_goles_serie_a)\n",
        "statistic_away, p_value_away = shapiro(away_games_goles_serie_a)\n",
        "\n",
        "print(f\"Test Shapiro-Wilka dla goli u siebie - Statystyka: {statistic_home}, P-value: {p_value_home}\")\n",
        "print(f\"Test Shapiro-Wilka dla goli na wyjeździe - Statystyka: {statistic_away}, P-value: {p_value_away}\")"
      ],
      "metadata": {
        "colab": {
          "base_uri": "https://localhost:8080/"
        },
        "id": "X31NQA7e0fC-",
        "outputId": "0db27bc6-d913-403e-ccdb-f043ceacdb5f"
      },
      "execution_count": null,
      "outputs": [
        {
          "output_type": "stream",
          "name": "stdout",
          "text": [
            "Test Shapiro-Wilka dla goli u siebie - Statystyka: 0.8774148225784302, P-value: 0.01590132713317871\n",
            "Test Shapiro-Wilka dla goli na wyjeździe - Statystyka: 0.8270021677017212, P-value: 0.0022478585597127676\n"
          ]
        }
      ]
    },
    {
      "cell_type": "code",
      "source": [
        "#TEST LEVENA\n",
        "from scipy.stats import levene\n",
        "\n",
        "levene_statistic, levene_p_value = levene(home_games_goles_serie_a, away_games_goles_serie_a)\n",
        "\n",
        "print(f\"Statystyka testu Levene: {levene_statistic}\")\n",
        "print(f\"P-value dla testu Levene: {levene_p_value}\")\n",
        "\n",
        "alpha_levene = 0.05\n",
        "if levene_p_value < alpha_levene:\n",
        "    print(\"Równość wariancji nie jest spełniona - odrzucamy hipotezę zerową.\")\n",
        "else:\n",
        "    print(\"Brak dowodów na brak równości wariancji - nie odrzucamy hipotezy zerowej.\")"
      ],
      "metadata": {
        "colab": {
          "base_uri": "https://localhost:8080/"
        },
        "id": "ctFw3gbV0wxQ",
        "outputId": "df793d1d-9e3c-4411-df63-5a57dec46e04"
      },
      "execution_count": null,
      "outputs": [
        {
          "output_type": "stream",
          "name": "stdout",
          "text": [
            "Statystyka testu Levene: 0.04637313287122912\n",
            "P-value dla testu Levene: 0.830650608300258\n",
            "Brak dowodów na brak równości wariancji - nie odrzucamy hipotezy zerowej.\n"
          ]
        }
      ]
    },
    {
      "cell_type": "code",
      "source": [
        "#TEST T STUDENTA\n",
        "from scipy.stats import ttest_rel\n",
        "\n",
        "t_statistic, p_value = ttest_rel(home_games_goles_serie_a, away_games_goles_serie_a)\n",
        "\n",
        "\n",
        "print(f\"T-statistic: {t_statistic}\")\n",
        "print(f\"P-value: {p_value}\")\n",
        "\n",
        "alpha = 0.05\n",
        "if p_value < alpha:\n",
        "    print(\"Różnice są istotne statystycznie - odrzucamy hipotezę zerową.\")\n",
        "else:\n",
        "    print(\"Brak istotnych statystycznie różnic - nie odrzucamy hipotezy zerowej.\")"
      ],
      "metadata": {
        "colab": {
          "base_uri": "https://localhost:8080/"
        },
        "id": "MmNL143smpM8",
        "outputId": "270cacf8-1f59-43f1-e393-04be0ab81052"
      },
      "execution_count": null,
      "outputs": [
        {
          "output_type": "stream",
          "name": "stdout",
          "text": [
            "T-statistic: 3.747157199171343\n",
            "P-value: 0.0013648003616092235\n",
            "Różnice są istotne statystycznie - odrzucamy hipotezę zerową.\n"
          ]
        }
      ]
    },
    {
      "cell_type": "code",
      "source": [
        "#TEST COHENA\n",
        "from numpy import mean, std\n",
        "\n",
        "data_home_goals = home_games_goles_serie_a.values\n",
        "data_away_goals = away_games_goles_serie_a.values\n",
        "\n",
        "def cohen_d(group1, group2):\n",
        "    \"\"\"\n",
        "    Oblicza indeks Cohena dla dwóch grup.\n",
        "    \"\"\"\n",
        "    mean_diff = mean(group1) - mean(group2)\n",
        "    pooled_std = ((std(group1) ** 2 + std(group2) ** 2) / 2) ** 0.5\n",
        "    cohen_d = mean_diff / pooled_std\n",
        "    return cohen_d\n",
        "\n",
        "cohen_effect_size = cohen_d(data_home_goals, data_away_goals)\n",
        "\n",
        "print(f\"Indeks Cohena: {cohen_effect_size}\")"
      ],
      "metadata": {
        "colab": {
          "base_uri": "https://localhost:8080/"
        },
        "id": "CQrSyzARHCDJ",
        "outputId": "e5eff925-a6da-4cfa-bb89-ca34e73711b9"
      },
      "execution_count": null,
      "outputs": [
        {
          "output_type": "stream",
          "name": "stdout",
          "text": [
            "Indeks Cohena: 0.7542425154314323\n"
          ]
        }
      ]
    },
    {
      "cell_type": "markdown",
      "source": [
        "## Na jakiej pozycji piłkarze mają najwięcej żółtych kartek?"
      ],
      "metadata": {
        "id": "JVjIrbiz-60j"
      }
    },
    {
      "cell_type": "code",
      "source": [
        "zad4 = pd.merge(zad2, apps, on=\"player_id\")"
      ],
      "metadata": {
        "id": "8AKBghhJ-6kM"
      },
      "execution_count": null,
      "outputs": []
    },
    {
      "cell_type": "code",
      "source": [
        "yellow_cards = zad4.groupby(\"sub_position\")['yellow_cards'].sum()"
      ],
      "metadata": {
        "id": "itHIrje5_gkU"
      },
      "execution_count": null,
      "outputs": []
    },
    {
      "cell_type": "code",
      "source": [
        "cards_df = pd.concat([yellow_cards, red_cards], axis=1)"
      ],
      "metadata": {
        "id": "pteCXilSAHUD"
      },
      "execution_count": null,
      "outputs": []
    },
    {
      "cell_type": "code",
      "source": [
        "import pandas as pd\n",
        "import matplotlib.pyplot as plt\n",
        "\n",
        "\n",
        "red_cards_filtered = zad4[zad4['sub_position'].isin(['Centre-Forward', 'Left-Back', 'Goalkeeper', 'Centre-Back'])].groupby(\"sub_position\")['yellow_cards'].sum()\n",
        "\n",
        "fig, ax = plt.subplots(figsize=(8, 6))\n",
        "\n",
        "positions_filtered = red_cards_filtered.index\n",
        "red_cards_filtered_values = red_cards_filtered.values\n",
        "\n",
        "bar_width = 0.50\n",
        "\n",
        "index_filtered = range(len(positions_filtered))\n",
        "\n",
        "bar1 = ax.bar(index_filtered, red_cards_filtered_values, bar_width, label='żółte kartki', color='gold')\n",
        "\n",
        "ax.set_xlabel('Pozycja')\n",
        "ax.set_ylabel('Liczba żółtych kartek')\n",
        "ax.set_title('Liczba otrzymanych żółtych kartek na wybranych pozycjach')\n",
        "ax.set_xticks([i for i in index_filtered])\n",
        "ax.set_xticklabels(positions_filtered, rotation=45, ha='right')\n",
        "ax.legend()\n",
        "\n",
        "plt.show()\n"
      ],
      "metadata": {
        "colab": {
          "base_uri": "https://localhost:8080/",
          "height": 637
        },
        "id": "x8u3pMWyoxTM",
        "outputId": "088fbc58-afda-4930-bf1a-e4ea65ccb550"
      },
      "execution_count": null,
      "outputs": [
        {
          "output_type": "display_data",
          "data": {
            "text/plain": [
              "<Figure size 800x600 with 1 Axes>"
            ],
            "image/png": "[encoded data removed]"
          },
          "metadata": {}
        }
      ]
    },
    {
      "cell_type": "code",
      "source": [
        "# TEST LEVENEA\n",
        "pozycje = zad4['sub_position'].unique()\n",
        "dane_zolte_kartki = [zad4[zad4['sub_position'] == pos]['yellow_cards'].dropna() for pos in pozycje]\n",
        "\n",
        "statystyka, wartosc_p = levene(*dane_zolte_kartki)\n",
        "print(f\"Statystyka testu Levene'a: {statystyka}\")\n",
        "print(f\"Wartość p: {wartosc_p}\")\n",
        "\n",
        "if wartosc_p < 0.05:\n",
        "    print(\"Odrzucamy hipotezę zerową - istnieją istotne różnice w wariancji pomiędzy grupami.\")\n",
        "else:\n",
        "    print(\"Nie ma podstaw do odrzucenia hipotezy zerowej - brak istotnych różnic w wariancji pomiędzy grupami.\")"
      ],
      "metadata": {
        "colab": {
          "base_uri": "https://localhost:8080/"
        },
        "id": "aZhjCCqWEr-M",
        "outputId": "f48d51c2-7a8c-4a61-e0e7-ad5b6b845394"
      },
      "execution_count": null,
      "outputs": [
        {
          "output_type": "stream",
          "name": "stdout",
          "text": [
            "Statystyka testu Levene'a: nan\n",
            "Wartość p: nan\n",
            "Nie ma podstaw do odrzucenia hipotezy zerowej - brak istotnych różnic w wariancji pomiędzy grupami.\n"
          ]
        },
        {
          "output_type": "stream",
          "name": "stderr",
          "text": [
            "/usr/local/lib/python3.10/dist-packages/numpy/core/fromnumeric.py:3432: RuntimeWarning: Mean of empty slice.\n",
            "  return _methods._mean(a, axis=axis, dtype=dtype,\n",
            "/usr/local/lib/python3.10/dist-packages/numpy/core/_methods.py:190: RuntimeWarning: invalid value encountered in double_scalars\n",
            "  ret = ret.dtype.type(ret / rcount)\n"
          ]
        }
      ]
    },
    {
      "cell_type": "code",
      "source": [
        "#TEST KRUSKALA-WILLISA\n",
        "from scipy.stats import kruskal\n",
        "\n",
        "statystyka_kw, wartosc_p_kw = kruskal(*dane_zolte_kartki)\n",
        "\n",
        "print(f\"Statystyka testu Kruskalla-Wallisa: {statystyka_kw}\")\n",
        "print(f\"Wartość p: {wartosc_p_kw}\")\n",
        "\n",
        "if wartosc_p_kw < 0.05:\n",
        "    print(\"Odrzucamy hipotezę zerową - istnieją istotne różnice pomiędzy co najmniej dwoma grupami.\")\n",
        "else:\n",
        "    print(\"Nie ma podstaw do odrzucenia hipotezy zerowej - brak istotnych różnic pomiędzy grupami.\")"
      ],
      "metadata": {
        "colab": {
          "base_uri": "https://localhost:8080/"
        },
        "id": "WoQlt5iIFDE_",
        "outputId": "a3d157b9-d14d-492a-f227-724ea356c260"
      },
      "execution_count": null,
      "outputs": [
        {
          "output_type": "stream",
          "name": "stdout",
          "text": [
            "Statystyka testu Kruskalla-Wallisa: nan\n",
            "Wartość p: nan\n",
            "Nie ma podstaw do odrzucenia hipotezy zerowej - brak istotnych różnic pomiędzy grupami.\n"
          ]
        }
      ]
    },
    {
      "cell_type": "markdown",
      "source": [
        "## Czy jest różnica w średnim wieku kapitanów drużyn w poszczególnych ligach?\n",
        "\n",
        "\n"
      ],
      "metadata": {
        "id": "THGrbTwQAbeT"
      }
    },
    {
      "cell_type": "code",
      "source": [
        "kapitanowie = game_lineups[game_lineups[\"team_captain\"] == 1]"
      ],
      "metadata": {
        "id": "fa-TxdA1Ahqc"
      },
      "execution_count": null,
      "outputs": []
    },
    {
      "cell_type": "code",
      "source": [
        "kapitanowie.head()"
      ],
      "metadata": {
        "colab": {
          "base_uri": "https://localhost:8080/",
          "height": 313
        },
        "id": "mk0jmWxL1iDb",
        "outputId": "cb51001b-a570-4348-9eeb-64c4729d6471"
      },
      "execution_count": null,
      "outputs": [
        {
          "output_type": "execute_result",
          "data": {
            "text/plain": [
              "                      game_lineups_id  game_id  club_id             type  \\\n",
              "12   be9fbdcde744131e27d57f1ad13bbfd7  2317258      610  starting_lineup   \n",
              "21   0950259bdf02b7086d893a266de7b5b9  2317258     1090  starting_lineup   \n",
              "73   e4ed89ef52777c41b7c2a96a1bef5450  2320447       16  starting_lineup   \n",
              "82   ca43c886dbc8e84465d24383e4d72cb9  2320447       96  starting_lineup   \n",
              "110  9f6e1256c83e46dc9fa6a4f596d7db6b  2320448       41  starting_lineup   \n",
              "\n",
              "    number  player_id           player_name  team_captain            position  \n",
              "12      10      45509          Siem de Jong             1  Attacking Midfield  \n",
              "21       4      93081        Nick Viergever             1           Left-Back  \n",
              "73       5        410        Sebastian Kehl             1  Defensive Midfield  \n",
              "82      14      36351        Matthias Tietz             1  Attacking Midfield  \n",
              "110     23       4192  Rafael van der Vaart             1  Attacking Midfield  "
            ],
            "text/html": [
              "\n",
              "  <div id=\"df-b069c9e7-2a84-4d7a-bd12-7ab9369c5bfa\" class=\"colab-df-container\">\n",
              "    <div>\n",
              "<style scoped>\n",
              "    .dataframe tbody tr th:only-of-type {\n",
              "        vertical-align: middle;\n",
              "    }\n",
              "\n",
              "    .dataframe tbody tr th {\n",
              "        vertical-align: top;\n",
              "    }\n",
              "\n",
              "    .dataframe thead th {\n",
              "        text-align: right;\n",
              "    }\n",
              "</style>\n",
              "<table border=\"1\" class=\"dataframe\">\n",
              "  <thead>\n",
              "    <tr style=\"text-align: right;\">\n",
              "      <th></th>\n",
              "      <th>game_lineups_id</th>\n",
              "      <th>game_id</th>\n",
              "      <th>club_id</th>\n",
              "      <th>type</th>\n",
              "      <th>number</th>\n",
              "      <th>player_id</th>\n",
              "      <th>player_name</th>\n",
              "      <th>team_captain</th>\n",
              "      <th>position</th>\n",
              "    </tr>\n",
              "  </thead>\n",
              "  <tbody>\n",
              "    <tr>\n",
              "      <th>12</th>\n",
              "      <td>be9fbdcde744131e27d57f1ad13bbfd7</td>\n",
              "      <td>2317258</td>\n",
              "      <td>610</td>\n",
              "      <td>starting_lineup</td>\n",
              "      <td>10</td>\n",
              "      <td>45509</td>\n",
              "      <td>Siem de Jong</td>\n",
              "      <td>1</td>\n",
              "      <td>Attacking Midfield</td>\n",
              "    </tr>\n",
              "    <tr>\n",
              "      <th>21</th>\n",
              "      <td>0950259bdf02b7086d893a266de7b5b9</td>\n",
              "      <td>2317258</td>\n",
              "      <td>1090</td>\n",
              "      <td>starting_lineup</td>\n",
              "      <td>4</td>\n",
              "      <td>93081</td>\n",
              "      <td>Nick Viergever</td>\n",
              "      <td>1</td>\n",
              "      <td>Left-Back</td>\n",
              "    </tr>\n",
              "    <tr>\n",
              "      <th>73</th>\n",
              "      <td>e4ed89ef52777c41b7c2a96a1bef5450</td>\n",
              "      <td>2320447</td>\n",
              "      <td>16</td>\n",
              "      <td>starting_lineup</td>\n",
              "      <td>5</td>\n",
              "      <td>410</td>\n",
              "      <td>Sebastian Kehl</td>\n",
              "      <td>1</td>\n",
              "      <td>Defensive Midfield</td>\n",
              "    </tr>\n",
              "    <tr>\n",
              "      <th>82</th>\n",
              "      <td>ca43c886dbc8e84465d24383e4d72cb9</td>\n",
              "      <td>2320447</td>\n",
              "      <td>96</td>\n",
              "      <td>starting_lineup</td>\n",
              "      <td>14</td>\n",
              "      <td>36351</td>\n",
              "      <td>Matthias Tietz</td>\n",
              "      <td>1</td>\n",
              "      <td>Attacking Midfield</td>\n",
              "    </tr>\n",
              "    <tr>\n",
              "      <th>110</th>\n",
              "      <td>9f6e1256c83e46dc9fa6a4f596d7db6b</td>\n",
              "      <td>2320448</td>\n",
              "      <td>41</td>\n",
              "      <td>starting_lineup</td>\n",
              "      <td>23</td>\n",
              "      <td>4192</td>\n",
              "      <td>Rafael van der Vaart</td>\n",
              "      <td>1</td>\n",
              "      <td>Attacking Midfield</td>\n",
              "    </tr>\n",
              "  </tbody>\n",
              "</table>\n",
              "</div>\n",
              "    <div class=\"colab-df-buttons\">\n",
              "\n",
              "  <div class=\"colab-df-container\">\n",
              "    <button class=\"colab-df-convert\" onclick=\"convertToInteractive('df-b069c9e7-2a84-4d7a-bd12-7ab9369c5bfa')\"\n",
              "            title=\"Convert this dataframe to an interactive table.\"\n",
              "            style=\"display:none;\">\n",
              "\n",
              "  <svg xmlns=\"http://www.w3.org/2000/svg\" height=\"24px\" viewBox=\"0 -960 960 960\">\n",
              "    <path d=\"M120-120v-720h720v720H120Zm60-500h600v-160H180v160Zm220 220h160v-160H400v160Zm0 220h160v-160H400v160ZM180-400h160v-160H180v160Zm440 0h160v-160H620v160ZM180-180h160v-160H180v160Zm440 0h160v-160H620v160Z\"/>\n",
              "  </svg>\n",
              "    </button>\n",
              "\n",
              "  <style>\n",
              "    .colab-df-container {\n",
              "      display:flex;\n",
              "      gap: 12px;\n",
              "    }\n",
              "\n",
              "    .colab-df-convert {\n",
              "      background-color: #E8F0FE;\n",
              "      border: none;\n",
              "      border-radius: 50%;\n",
              "      cursor: pointer;\n",
              "      display: none;\n",
              "      fill: #1967D2;\n",
              "      height: 32px;\n",
              "      padding: 0 0 0 0;\n",
              "      width: 32px;\n",
              "    }\n",
              "\n",
              "    .colab-df-convert:hover {\n",
              "      background-color: #E2EBFA;\n",
              "      box-shadow: 0px 1px 2px rgba(60, 64, 67, 0.3), 0px 1px 3px 1px rgba(60, 64, 67, 0.15);\n",
              "      fill: #174EA6;\n",
              "    }\n",
              "\n",
              "    .colab-df-buttons div {\n",
              "      margin-bottom: 4px;\n",
              "    }\n",
              "\n",
              "    [theme=dark] .colab-df-convert {\n",
              "      background-color: #3B4455;\n",
              "      fill: #D2E3FC;\n",
              "    }\n",
              "\n",
              "    [theme=dark] .colab-df-convert:hover {\n",
              "      background-color: #434B5C;\n",
              "      box-shadow: 0px 1px 3px 1px rgba(0, 0, 0, 0.15);\n",
              "      filter: drop-shadow(0px 1px 2px rgba(0, 0, 0, 0.3));\n",
              "      fill: #FFFFFF;\n",
              "    }\n",
              "  </style>\n",
              "\n",
              "    <script>\n",
              "      const buttonEl =\n",
              "        document.querySelector('#df-b069c9e7-2a84-4d7a-bd12-7ab9369c5bfa button.colab-df-convert');\n",
              "      buttonEl.style.display =\n",
              "        google.colab.kernel.accessAllowed ? 'block' : 'none';\n",
              "\n",
              "      async function convertToInteractive(key) {\n",
              "        const element = document.querySelector('#df-b069c9e7-2a84-4d7a-bd12-7ab9369c5bfa');\n",
              "        const dataTable =\n",
              "          await google.colab.kernel.invokeFunction('convertToInteractive',\n",
              "                                                    [key], {});\n",
              "        if (!dataTable) return;\n",
              "\n",
              "        const docLinkHtml = 'Like what you see? Visit the ' +\n",
              "          '<a target=\"_blank\" href=https://colab.research.google.com/notebooks/data_table.ipynb>data table notebook</a>'\n",
              "          + ' to learn more about interactive tables.';\n",
              "        element.innerHTML = '';\n",
              "        dataTable['output_type'] = 'display_data';\n",
              "        await google.colab.output.renderOutput(dataTable, element);\n",
              "        const docLink = document.createElement('div');\n",
              "        docLink.innerHTML = docLinkHtml;\n",
              "        element.appendChild(docLink);\n",
              "      }\n",
              "    </script>\n",
              "  </div>\n",
              "\n",
              "\n",
              "<div id=\"df-916eaee3-dd5a-46d8-8bb3-d700b96a207c\">\n",
              "  <button class=\"colab-df-quickchart\" onclick=\"quickchart('df-916eaee3-dd5a-46d8-8bb3-d700b96a207c')\"\n",
              "            title=\"Suggest charts\"\n",
              "            style=\"display:none;\">\n",
              "\n",
              "<svg xmlns=\"http://www.w3.org/2000/svg\" height=\"24px\"viewBox=\"0 0 24 24\"\n",
              "     width=\"24px\">\n",
              "    <g>\n",
              "        <path d=\"M19 3H5c-1.1 0-2 .9-2 2v14c0 1.1.9 2 2 2h14c1.1 0 2-.9 2-2V5c0-1.1-.9-2-2-2zM9 17H7v-7h2v7zm4 0h-2V7h2v10zm4 0h-2v-4h2v4z\"/>\n",
              "    </g>\n",
              "</svg>\n",
              "  </button>\n",
              "\n",
              "<style>\n",
              "  .colab-df-quickchart {\n",
              "      --bg-color: #E8F0FE;\n",
              "      --fill-color: #1967D2;\n",
              "      --hover-bg-color: #E2EBFA;\n",
              "      --hover-fill-color: #174EA6;\n",
              "      --disabled-fill-color: #AAA;\n",
              "      --disabled-bg-color: #DDD;\n",
              "  }\n",
              "\n",
              "  [theme=dark] .colab-df-quickchart {\n",
              "      --bg-color: #3B4455;\n",
              "      --fill-color: #D2E3FC;\n",
              "      --hover-bg-color: #434B5C;\n",
              "      --hover-fill-color: #FFFFFF;\n",
              "      --disabled-bg-color: #3B4455;\n",
              "      --disabled-fill-color: #666;\n",
              "  }\n",
              "\n",
              "  .colab-df-quickchart {\n",
              "    background-color: var(--bg-color);\n",
              "    border: none;\n",
              "    border-radius: 50%;\n",
              "    cursor: pointer;\n",
              "    display: none;\n",
              "    fill: var(--fill-color);\n",
              "    height: 32px;\n",
              "    padding: 0;\n",
              "    width: 32px;\n",
              "  }\n",
              "\n",
              "  .colab-df-quickchart:hover {\n",
              "    background-color: var(--hover-bg-color);\n",
              "    box-shadow: 0 1px 2px rgba(60, 64, 67, 0.3), 0 1px 3px 1px rgba(60, 64, 67, 0.15);\n",
              "    fill: var(--button-hover-fill-color);\n",
              "  }\n",
              "\n",
              "  .colab-df-quickchart-complete:disabled,\n",
              "  .colab-df-quickchart-complete:disabled:hover {\n",
              "    background-color: var(--disabled-bg-color);\n",
              "    fill: var(--disabled-fill-color);\n",
              "    box-shadow: none;\n",
              "  }\n",
              "\n",
              "  .colab-df-spinner {\n",
              "    border: 2px solid var(--fill-color);\n",
              "    border-color: transparent;\n",
              "    border-bottom-color: var(--fill-color);\n",
              "    animation:\n",
              "      spin 1s steps(1) infinite;\n",
              "  }\n",
              "\n",
              "  @keyframes spin {\n",
              "    0% {\n",
              "      border-color: transparent;\n",
              "      border-bottom-color: var(--fill-color);\n",
              "      border-left-color: var(--fill-color);\n",
              "    }\n",
              "    20% {\n",
              "      border-color: transparent;\n",
              "      border-left-color: var(--fill-color);\n",
              "      border-top-color: var(--fill-color);\n",
              "    }\n",
              "    30% {\n",
              "      border-color: transparent;\n",
              "      border-left-color: var(--fill-color);\n",
              "      border-top-color: var(--fill-color);\n",
              "      border-right-color: var(--fill-color);\n",
              "    }\n",
              "    40% {\n",
              "      border-color: transparent;\n",
              "      border-right-color: var(--fill-color);\n",
              "      border-top-color: var(--fill-color);\n",
              "    }\n",
              "    60% {\n",
              "      border-color: transparent;\n",
              "      border-right-color: var(--fill-color);\n",
              "    }\n",
              "    80% {\n",
              "      border-color: transparent;\n",
              "      border-right-color: var(--fill-color);\n",
              "      border-bottom-color: var(--fill-color);\n",
              "    }\n",
              "    90% {\n",
              "      border-color: transparent;\n",
              "      border-bottom-color: var(--fill-color);\n",
              "    }\n",
              "  }\n",
              "</style>\n",
              "\n",
              "  <script>\n",
              "    async function quickchart(key) {\n",
              "      const quickchartButtonEl =\n",
              "        document.querySelector('#' + key + ' button');\n",
              "      quickchartButtonEl.disabled = true;  // To prevent multiple clicks.\n",
              "      quickchartButtonEl.classList.add('colab-df-spinner');\n",
              "      try {\n",
              "        const charts = await google.colab.kernel.invokeFunction(\n",
              "            'suggestCharts', [key], {});\n",
              "      } catch (error) {\n",
              "        console.error('Error during call to suggestCharts:', error);\n",
              "      }\n",
              "      quickchartButtonEl.classList.remove('colab-df-spinner');\n",
              "      quickchartButtonEl.classList.add('colab-df-quickchart-complete');\n",
              "    }\n",
              "    (() => {\n",
              "      let quickchartButtonEl =\n",
              "        document.querySelector('#df-916eaee3-dd5a-46d8-8bb3-d700b96a207c button');\n",
              "      quickchartButtonEl.style.display =\n",
              "        google.colab.kernel.accessAllowed ? 'block' : 'none';\n",
              "    })();\n",
              "  </script>\n",
              "</div>\n",
              "    </div>\n",
              "  </div>\n"
            ]
          },
          "metadata": {},
          "execution_count": 106
        }
      ]
    },
    {
      "cell_type": "code",
      "source": [
        "zad_y = pd.merge(kapitanowie, players, on=\"player_id\")"
      ],
      "metadata": {
        "id": "Q9S39QYB3cuG"
      },
      "execution_count": null,
      "outputs": []
    },
    {
      "cell_type": "code",
      "source": [
        "import pandas as pd\n",
        "import matplotlib.pyplot as plt\n",
        "\n",
        "\n",
        "kapitanowie = game_lineups[game_lineups[\"team_captain\"] == 1]\n",
        "zad_y = pd.merge(kapitanowie, players, on=\"player_id\")\n",
        "captains_2023 = zad_y[(zad_y['team_captain'] == 1) & (zad_y['last_season'] == 2023)]\n",
        "\n",
        "\n",
        "captains_2023['age'] = (pd.to_datetime('today') - pd.to_datetime(captains_2023['date_of_birth'])).astype('<m8[Y]')\n",
        "\n",
        "selected_leagues = ['PO1', 'IT1']\n",
        "captains_2023_selected = captains_2023[captains_2023['current_club_domestic_competition_id'].isin(selected_leagues)]\n",
        "average_age_by_league = captains_2023_selected.groupby('current_club_domestic_competition_id')['age'].mean()\n",
        "\n",
        "plt.figure(figsize=(12, 6))\n",
        "bar_plot = average_age_by_league.sort_values().plot(kind='barh', color='orange')\n",
        "for index, value in enumerate(average_age_by_league.sort_values()):\n",
        "    bar_plot.text(value, index, f'{value:.2f} lat', ha='left', va='center', fontsize=10, color='black')\n",
        "\n",
        "plt.xlabel('Średni wiek')\n",
        "plt.ylabel('Rozgrywki')\n",
        "plt.title('Średni wiek kapitanów w lidze portugalskiej i włoskiej w 2023 roku')\n",
        "plt.grid(axis='x', linestyle='--', alpha=0.6)\n",
        "\n",
        "plt.xlim(20, max(average_age_by_league)+1)\n",
        "\n",
        "plt.show()"
      ],
      "metadata": {
        "colab": {
          "base_uri": "https://localhost:8080/",
          "height": 608
        },
        "id": "NKN0vJlE570t",
        "outputId": "dac2c5a9-6279-4e62-bc88-022ddda754ef"
      },
      "execution_count": null,
      "outputs": [
        {
          "output_type": "stream",
          "name": "stderr",
          "text": [
            "<ipython-input-124-2d3c7febfcff>:10: SettingWithCopyWarning: \n",
            "A value is trying to be set on a copy of a slice from a DataFrame.\n",
            "Try using .loc[row_indexer,col_indexer] = value instead\n",
            "\n",
            "See the caveats in the documentation: https://pandas.pydata.org/pandas-docs/stable/user_guide/indexing.html#returning-a-view-versus-a-copy\n",
            "  captains_2023['age'] = (pd.to_datetime('today') - pd.to_datetime(captains_2023['date_of_birth'])).astype('<m8[Y]')\n"
          ]
        },
        {
          "output_type": "display_data",
          "data": {
            "text/plain": [
              "<Figure size 1200x600 with 1 Axes>"
            ],
            "image/png": "[encoded data removed]"
          },
          "metadata": {}
        }
      ]
    },
    {
      "cell_type": "code",
      "source": [
        "#TEST SHAPIRO-WILKA\n",
        "from scipy.stats import shapiro\n",
        "\n",
        "age_data_portugal = captains_2023_selected[captains_2023_selected['current_club_domestic_competition_id'] == 'PO1']['age']\n",
        "age_data_italy = captains_2023_selected[captains_2023_selected['current_club_domestic_competition_id'] == 'IT1']['age']\n",
        "\n",
        "shapiro_statistic_portugal, shapiro_p_value_portugal = shapiro(age_data_portugal)\n",
        "shapiro_statistic_italy, shapiro_p_value_italy = shapiro(age_data_italy)\n",
        "\n",
        "print(\"Dla ligi portugalskiej:\")\n",
        "print(f\"Statystyka testu Shapiro-Wilka: {shapiro_statistic_portugal}\")\n",
        "print(f\"P-value dla testu Shapiro-Wilka: {shapiro_p_value_portugal}\")\n",
        "print(\"\\nDla ligi włoskiej:\")\n",
        "print(f\"Statystyka testu Shapiro-Wilka: {shapiro_statistic_italy}\")\n",
        "print(f\"P-value dla testu Shapiro-Wilka: {shapiro_p_value_italy}\")\n",
        "\n",
        "alpha_shapiro = 0.05\n",
        "if shapiro_p_value_portugal < alpha_shapiro:\n",
        "    print(\"Rozkład wieku kapitanów w lidze portugalskiej nie jest normalny - odrzucamy hipotezę zerową.\")\n",
        "else:\n",
        "    print(\"Brak dowodów na to, że rozkład wieku kapitanów w lidze portugalskiej nie jest normalny - nie odrzucamy hipotezy zerowej.\")\n",
        "\n",
        "if shapiro_p_value_italy < alpha_shapiro:\n",
        "    print(\"Rozkład wieku kapitanów w lidze włoskiej nie jest normalny - odrzucamy hipotezę zerową.\")\n",
        "else:\n",
        "    print(\"Brak dowodów na to, że rozkład wieku kapitanów w lidze włoskiej nie jest normalny - nie odrzucamy hipotezy zerowej.\")"
      ],
      "metadata": {
        "colab": {
          "base_uri": "https://localhost:8080/"
        },
        "id": "7dDX3wp9_W90",
        "outputId": "e556727d-3c7b-4d8f-81cb-934d164eeefa"
      },
      "execution_count": null,
      "outputs": [
        {
          "output_type": "stream",
          "name": "stdout",
          "text": [
            "Dla ligi portugalskiej:\n",
            "Statystyka testu Shapiro-Wilka: 0.9469043612480164\n",
            "P-value dla testu Shapiro-Wilka: 3.3564926033365974e-27\n",
            "\n",
            "Dla ligi włoskiej:\n",
            "Statystyka testu Shapiro-Wilka: 0.9743697047233582\n",
            "P-value dla testu Shapiro-Wilka: 2.471190404860773e-24\n",
            "Rozkład wieku kapitanów w lidze portugalskiej nie jest normalny - odrzucamy hipotezę zerową.\n",
            "Rozkład wieku kapitanów w lidze włoskiej nie jest normalny - odrzucamy hipotezę zerową.\n"
          ]
        }
      ]
    },
    {
      "cell_type": "code",
      "source": [
        "#TEST LEVENEA\n",
        "from scipy.stats import levene\n",
        "\n",
        "age_data_portugal = captains_2023_selected[captains_2023_selected['current_club_domestic_competition_id'] == 'PO1']['age']\n",
        "age_data_italy = captains_2023_selected[captains_2023_selected['current_club_domestic_competition_id'] == 'IT1']['age']\n",
        "\n",
        "levene_statistic, levene_p_value = levene(age_data_portugal, age_data_italy)\n",
        "\n",
        "print(f\"Statystyka testu Levene: {levene_statistic}\")\n",
        "print(f\"P-value dla testu Levene: {levene_p_value}\")\n",
        "\n",
        "alpha_levene = 0.05\n",
        "if levene_p_value < alpha_levene:\n",
        "    print(\"Równość wariancji nie jest spełniona - odrzucamy hipotezę zerową.\")\n",
        "else:\n",
        "    print(\"Brak dowodów na brak równości wariancji - nie odrzucamy hipotezy zerowej.\")"
      ],
      "metadata": {
        "colab": {
          "base_uri": "https://localhost:8080/"
        },
        "id": "nHdLqHXe-80l",
        "outputId": "aa6b85a5-acd6-4bc9-a60e-45f7e00a7077"
      },
      "execution_count": null,
      "outputs": [
        {
          "output_type": "stream",
          "name": "stdout",
          "text": [
            "Statystyka testu Levene: 388.90249868465844\n",
            "P-value dla testu Levene: 9.710320179171413e-84\n",
            "Równość wariancji nie jest spełniona - odrzucamy hipotezę zerową.\n"
          ]
        }
      ]
    },
    {
      "cell_type": "code",
      "source": [
        "#TEST MANNA-WHITNEYA\n",
        "from scipy.stats import mannwhitneyu\n",
        "\n",
        "age_data_portugal = captains_2023_selected[captains_2023_selected['current_club_domestic_competition_id'] == 'PO1']['age']\n",
        "age_data_italy = captains_2023_selected[captains_2023_selected['current_club_domestic_competition_id'] == 'IT1']['age']\n",
        "\n",
        "mannwhitneyu_statistic, mannwhitneyu_p_value = mannwhitneyu(age_data_portugal, age_data_italy)\n",
        "\n",
        "print(f\"Statystyka testu Manna-Whitneya: {mannwhitneyu_statistic}\")\n",
        "print(f\"P-value dla testu Manna-Whitneya: {mannwhitneyu_p_value}\")\n",
        "\n",
        "alpha_mannwhitneyu = 0.05\n",
        "if mannwhitneyu_p_value < alpha_mannwhitneyu:\n",
        "    print(\"Różnice są istotne statystycznie - odrzucamy hipotezę zerową.\")\n",
        "else:\n",
        "    print(\"Brak istotnych statystycznie różnic - nie odrzucamy hipotezy zerowej.\")"
      ],
      "metadata": {
        "id": "7IYZi7mcBU9V",
        "outputId": "f79b6790-ba35-4013-f4ad-a9ad1f5cc4ae",
        "colab": {
          "base_uri": "https://localhost:8080/"
        }
      },
      "execution_count": null,
      "outputs": [
        {
          "output_type": "stream",
          "name": "stdout",
          "text": [
            "Statystyka testu Manna-Whitneya: 4908649.5\n",
            "P-value dla testu Manna-Whitneya: 1.352546632150861e-97\n",
            "Różnice są istotne statystycznie - odrzucamy hipotezę zerową.\n"
          ]
        }
      ]
    }
  ]
}